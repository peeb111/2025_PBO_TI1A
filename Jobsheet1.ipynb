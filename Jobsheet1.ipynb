{
  "nbformat": 4,
  "nbformat_minor": 0,
  "metadata": {
    "colab": {
      "provenance": [],
      "authorship_tag": "ABX9TyMIMgjVWSmerOthOpFeShgP",
      "include_colab_link": true
    },
    "kernelspec": {
      "name": "python3",
      "display_name": "Python 3"
    },
    "language_info": {
      "name": "python"
    }
  },
  "cells": [
    {
      "cell_type": "markdown",
      "metadata": {
        "id": "view-in-github",
        "colab_type": "text"
      },
      "source": [
        "<a href=\"https://colab.research.google.com/github/peeb111/2025_PBO_TI1A/blob/main/Jobsheet1.ipynb\" target=\"_parent\"><img src=\"https://colab.research.google.com/assets/colab-badge.svg\" alt=\"Open In Colab\"/></a>"
      ]
    },
    {
      "cell_type": "markdown",
      "source": [
        "# JOBSHEET 01 - DASAR BAHASA PEMROGRAMAN PYTHON"
      ],
      "metadata": {
        "id": "ixbN14NbocET"
      }
    },
    {
      "cell_type": "markdown",
      "source": [
        "## Praktikum 01. Tipe Data Dasar"
      ],
      "metadata": {
        "id": "X2MGUHm48zeW"
      }
    },
    {
      "cell_type": "code",
      "source": [
        "# 1. Number (int, float, complex)\n",
        "# Integer (int)\n",
        "angka_int = 10\n",
        "print(\"angka_int=\", angka_int, \"->\", type(angka_int))\n",
        "\n",
        "#Float\n",
        "angka_float = 3.14\n",
        "print(\"angka_float =\", angka_float, \"->\", type(angka_float))\n",
        "\n",
        "# Complex\n",
        "angka_complex = 2 + 3j\n",
        "print(\"angka_complex =\", angka_complex, \"->\", type(angka_complex))\n",
        "\n",
        "# 2. Boolean\n",
        "is_active = True\n",
        "print(\"\\nis_active =\", is_active, \"->\", type(is_active))\n",
        "\n",
        "# 3. String\n",
        "teks = \"Hello, Python!\"\n",
        "print(\"\\nteks =\", teks, \"->\", type(teks))\n",
        "\n",
        "# 4. List\n",
        "# List adalah tipe data terurut dan dapat diubah (mutable)\n",
        "daftar_angka = [1, 2, 3, 4, 5]\n",
        "print(\"\\ndaftar_angka =\", daftar_angka, \"->\", type(daftar_angka))\n",
        "\n",
        "# 5. Tuple\n",
        "# Tuple adalah tipe data terurut tetapi tidak dapat diubah (immutable)\n",
        "koordinat = (10, 20)\n",
        "print(\"\\nkoordinat =\", koordinat, \"->\", type(koordinat))\n",
        "\n",
        "# 6. Dictionary\n",
        "# Dictionary menyimpan data dalam pasangan key-value\n",
        "data_mahasiswa = {\n",
        "    \"nama\": \"Andi\",\n",
        "    \"nim\": \"A11.2022.12345\",\n",
        "    \"jurusan\": \"Teknik Informatika\"\n",
        "}\n",
        "print(\"\\ndata_mahasiswa =\", data_mahasiswa, \"->\", type(data_mahasiswa))\n",
        "\n",
        "# 7. Set\n",
        "# Set adalah tipe data yang tidak terurut, unik (tiap elemen hanya muncul 1x)\n",
        "himpunan_angka = {1, 2, 3, 2, 1}\n",
        "print(\"\\nhimpunan_angka =\", himpunan_angka, \"->\", type(himpunan_angka))\n",
        "\n",
        "# 8. Contoh penggunaan konversi tipe data\n",
        "nilai_str = \"100\"\n",
        "print(\"\\nnilai_str =\", nilai_str, \"->\", type(nilai_str))\n",
        "nilai_int = int(nilai_str) # konversi string ke integer\n",
        "print(\"nilai_int =\", nilai_int, \"->\", type(nilai_int))"
      ],
      "metadata": {
        "colab": {
          "base_uri": "https://localhost:8080/"
        },
        "id": "4HYd0zfXog1-",
        "outputId": "14629504-27ec-46b1-afdf-a2fa74852e79"
      },
      "execution_count": null,
      "outputs": [
        {
          "output_type": "stream",
          "name": "stdout",
          "text": [
            "angka_int= 10 -> <class 'int'>\n",
            "angka_float = 3.14 -> <class 'float'>\n",
            "angka_complex = (2+3j) -> <class 'complex'>\n",
            "\n",
            "is_active = True -> <class 'bool'>\n",
            "\n",
            "teks = Hello, Python! -> <class 'str'>\n",
            "\n",
            "daftar_angka = [1, 2, 3, 4, 5] -> <class 'list'>\n",
            "\n",
            "koordinat = (10, 20) -> <class 'tuple'>\n",
            "\n",
            "data_mahasiswa = {'nama': 'Andi', 'nim': 'A11.2022.12345', 'jurusan': 'Teknik Informatika'} -> <class 'dict'>\n",
            "\n",
            "himpunan_angka = {1, 2, 3} -> <class 'set'>\n",
            "\n",
            "nilai_str = 100 -> <class 'str'>\n",
            "nilai_int = 100 -> <class 'int'>\n"
          ]
        }
      ]
    },
    {
      "cell_type": "markdown",
      "source": [
        "### Praktikum 02. Variabel dan Operasi Dasar"
      ],
      "metadata": {
        "id": "bCVFHHl4Ain7"
      }
    },
    {
      "cell_type": "code",
      "source": [
        "# -*- coding: utf-8 -*-\n",
        "\n",
        "# 1. Pendeklarasian Variabel\n",
        "nama = \"Budi\"\n",
        "umur = 20\n",
        "tinggi = 170.5\n",
        "is_student = True\n",
        "\n",
        "print(\"Nama =\", nama)\n",
        "print(\"Umur =\", umur)\n",
        "print(\"Tinggi =\", tinggi, \"cm\")\n",
        "print(\"Mahasiswa =\", is_student)\n",
        "\n",
        "# Python tidak memerlukan deklarasi tipe data secara eksplisit.\n",
        "# Tipe data variabel akan menyesuaikan nilai yang diberikan.\n",
        "\n",
        "# 2. Operasi Aritmetika\n",
        "a = 10\n",
        "b = 3\n",
        "\n",
        "penjumlahan = a + b # Tambah\n",
        "pengurangan = a - b # Kurang\n",
        "perkalian = a * b # Kali\n",
        "pembagian = a / b # Bagi (hasil float)\n",
        "pembagian_bulat = a // b # Bagi (bulat)\n",
        "modulus = a % b # Sisa bagi\n",
        "pangkat = a ** b # Pemangkatan\n",
        "\n",
        "print(\"\\nOPERASI ARITMETIKA\")\n",
        "print(\"a =\", a, \", b =\", b)\n",
        "print(\"Penjumlahan =\", penjumlahan)\n",
        "print(\"Pengurangan =\", pengurangan)\n",
        "print(\"Perkalian =\", perkalian)\n",
        "print(\"Pembagian =\", pembagian)\n",
        "print(\"Pembagian Bulat =\", pembagian_bulat)\n",
        "print(\"Modulus =\", modulus)\n",
        "print(\"Pangkat =\", pangkat)\n",
        "\n",
        "# 3. Operasi Perbandingan\n",
        "# Menghasilkan nilai Boolean (True/False)\n",
        "lebih_besar = a > b\n",
        "kurang_dari = a < b\n",
        "sama_dengan = a == b\n",
        "tidak_sama = a != b\n",
        "lebih_besar_sama = a >= b\n",
        "kurang_sama = a <= b\n",
        "\n",
        "print(\"\\nOPERASI PERBANDINGAN\")\n",
        "print(\"a > b =\", lebih_besar)\n",
        "print(\"a < b =\", kurang_dari)\n",
        "print(\"a == b =\", sama_dengan)\n",
        "print(\"a != b =\", tidak_sama)\n",
        "print(\"a >= b =\", lebih_besar_sama)\n",
        "print(\"a <= b =\", kurang_sama)\n",
        "\n",
        "# 4. Operasi Logika\n",
        "# and, or, not\n",
        "\n",
        "x = True\n",
        "y = False\n",
        "\n",
        "logika_and = x and y\n",
        "logika_or = x or y\n",
        "logika_not_x = not x\n",
        "\n",
        "print(\"\\nOPERASI LOGIKA\")\n",
        "print(\"x =\", x, \", y =\", y)\n",
        "print(\"x and y =\", logika_and)\n",
        "print(\"x or y =\", logika_or)\n",
        "print(\"not x =\", logika_not_x)\n",
        "\n",
        "# 5. Contoh penggunaan di dalam percabangan\n",
        "if a > b and b > 0:\n",
        "  print(\"\\nKondisi terpenuhi: a lebih besar dari b, dan b masih positif.\")\n",
        "else:\n",
        "  print(\"\\nKondisi tidak terpenuhi atau b <= 0.\")"
      ],
      "metadata": {
        "colab": {
          "base_uri": "https://localhost:8080/"
        },
        "id": "aKyuWgILAsjB",
        "outputId": "8b157e9c-1a4e-4a7c-9351-90ff19cc1371"
      },
      "execution_count": null,
      "outputs": [
        {
          "output_type": "stream",
          "name": "stdout",
          "text": [
            "Nama = Budi\n",
            "Umur = 20\n",
            "Tinggi = 170.5 cm\n",
            "Mahasiswa = True\n",
            "\n",
            "OPERASI ARITMETIKA\n",
            "a = 10 , b = 3\n",
            "Penjumlahan = 13\n",
            "Pengurangan = 7\n",
            "Perkalian = 30\n",
            "Pembagian = 3.3333333333333335\n",
            "Pembagian Bulat = 3\n",
            "Modulus = 1\n",
            "Pangkat = 1000\n",
            "\n",
            "OPERASI PERBANDINGAN\n",
            "a > b = True\n",
            "a < b = False\n",
            "a == b = False\n",
            "a != b = True\n",
            "a >= b = True\n",
            "a <= b = False\n",
            "\n",
            "OPERASI LOGIKA\n",
            "x = True , y = False\n",
            "x and y = False\n",
            "x or y = True\n",
            "not x = False\n",
            "\n",
            "Kondisi terpenuhi: a lebih besar dari b, dan b masih positif.\n"
          ]
        }
      ]
    },
    {
      "cell_type": "markdown",
      "source": [
        "## Praktikum 03. Percabangan"
      ],
      "metadata": {
        "id": "YsbWoug3CyWc"
      }
    },
    {
      "cell_type": "code",
      "source": [
        "# -*- coding: utf-8 -*-\n",
        "\n",
        "# 1. IF Sederhana\n",
        "# Program hanya mengeksekusi blok jika kondisinya True\n",
        "\n",
        "nilai = 85\n",
        "print(\"Contoh IF Sederhana:\")\n",
        "if nilai > 80:\n",
        "  print(\"Selamat! Anda lulus dengan nilai tinggi.\\n\")\n",
        "\n",
        "# 2. IF-ELSE\n",
        "# Jika kondisi True, eksekusi blok if; jika False, eksekusi blok else\n",
        "\n",
        "umur = 17\n",
        "print(\"Contoh IF-ELSE:\")\n",
        "if umur >= 18:\n",
        "  print(\"Anda sudah cukup umur untuk mendapatkan SIM.\")\n",
        "else:\n",
        "  print(\"Anda belum cukup umur untuk mendapatkan SIM.\\n\")\n",
        "\n",
        "# 3. IF-ELIF-ELSE\n",
        "# Menangani banyak kondisi secara berurutan.\n",
        "# Jika ada kondisi yang terpenuhi, blok yang bersangkutan dieksekusi,\n",
        "# lalu program melewati blok kondisi setelahnya.\n",
        "\n",
        "hari = \"Rabu\"\n",
        "print(\"Contoh IF-ELIF-ELSE:\")\n",
        "if hari == \"Senin\":\n",
        "  print(\"Hari Senin - Saatnya kembali bekerja!\")\n",
        "elif hari == \"Selasa\":\n",
        "  print(\"Hari Selasa - Jadwal rapat mingguan.\")\n",
        "elif hari == \"Rabu\":\n",
        "  print(\"Hari Rabu - Ada diskon di beberapa toko.\")\n",
        "else:\n",
        "  print(\"Hari lainnya - Atur jadwalmu dengan baik.\\n\")\n",
        "\n",
        "# 4. IF Bersarang (Nested IF)\n",
        "# Kondisi di dalam kondisi, biasa digunakan jika kita perlu\n",
        "# memeriksa sub-kondisi setelah kondisi pertama terpenuhi.\n",
        "\n",
        "suhu = 35\n",
        "print(\"Contoh IF Bersarang (Nested IF):\")\n",
        "if suhu > 30:\n",
        "  print(\"Cuaca cukup panas.\")\n",
        "  if suhu > 40:\n",
        "    print(\"Bahkan sangat terik! Disarankan banyak minum air.\")\n",
        "  else:\n",
        "    print(\"Masih relatif normal, tapi tetap jaga kesehatan.\")\n",
        "else:\n",
        "  print(\"Cuaca sepertinya cukup sejuk.\\n\")\n",
        "\n",
        "# 5. Menggabungkan Percabangan dengan Operasi Logika\n",
        "# Memeriksa beberapa kondisi sekaligus dengan and, or, not\n",
        "\n",
        "nilai_teori = 75\n",
        "nilai_praktik = 80\n",
        "print(\"Contoh IF dengan Operasi Logika AND/OR:\")\n",
        "if nilai_teori >= 70 and nilai_praktik >= 70:\n",
        "  print(\"Anda lulus karena nilai teori dan praktik memadai.\")\n",
        "elif nilai_teori < 70 and nilai_praktik < 70:\n",
        "  print(\"Anda perlu meningkatkan nilai teori dan praktik.\")\n",
        "elif nilai_teori < 70:\n",
        "  print(\"Anda perlu meningkatkan nilai teori.\")\n",
        "else:\n",
        "  print(\"Anda perlu meningkatkan nilai praktik.\\n\")\n",
        "\n",
        "# 6. Penggunaan If Ternary (atau Conditional Expression)\n",
        "# Bentuk ringkas: <hasil_if_true> if <kondisi> else <hasil_if_false>\n",
        "\n",
        "angka = -5\n",
        "print(\"Contoh If Ternary (Conditional Expression):\")\n",
        "status = \"Positif\" if angka > 0 else \"Negatif atau Nol\"\n",
        "print(\"Angka =\", angka, \"=>\", status)"
      ],
      "metadata": {
        "colab": {
          "base_uri": "https://localhost:8080/"
        },
        "id": "kf1f9Z9LC5jq",
        "outputId": "87a5fb7b-eced-4971-b84a-9a7fccbcdceb"
      },
      "execution_count": null,
      "outputs": [
        {
          "output_type": "stream",
          "name": "stdout",
          "text": [
            "Contoh IF Sederhana:\n",
            "Selamat! Anda lulus dengan nilai tinggi.\n",
            "\n",
            "Contoh IF-ELSE:\n",
            "Anda belum cukup umur untuk mendapatkan SIM.\n",
            "\n",
            "Contoh IF-ELIF-ELSE:\n",
            "Hari Rabu - Ada diskon di beberapa toko.\n",
            "Contoh IF Bersarang (Nested IF):\n",
            "Cuaca cukup panas.\n",
            "Masih relatif normal, tapi tetap jaga kesehatan.\n",
            "Contoh IF dengan Operasi Logika AND/OR:\n",
            "Anda lulus karena nilai teori dan praktik memadai.\n",
            "Contoh If Ternary (Conditional Expression):\n",
            "Angka = -5 => Negatif atau Nol\n"
          ]
        }
      ]
    },
    {
      "cell_type": "markdown",
      "source": [
        "## Praktikum 04. Perulangan"
      ],
      "metadata": {
        "id": "68Hnd_jmIL_D"
      }
    },
    {
      "cell_type": "code",
      "source": [
        "# -*- coding: utf-8 -*-\n",
        "\n",
        "# 1. FOR Loop dengan range()\n",
        "print(\"1) FOR loop dengan range()\")\n",
        "for i in range(5):\n",
        "  print(\"Perulangan ke-\", i)\n",
        "# range(5) menghasilkan nilai 0, 1, 2, 3, dan 4\n",
        "# Sehingga perulangan akan berjalan sebanyak 5 kali\n",
        "\n",
        "print() # pemisah output\n",
        "\n",
        "# 2. FOR Loop untuk mengiterasi List\n",
        "print(\"2) FOR loop mengiterasi list\")\n",
        "buah = [\"apel\", \"mangga\", \"jeruk\", \"pisang\"]\n",
        "for item in buah:\n",
        "  print(\"Buah:\", item)\n",
        "# Loop akan mengeksekusi setiap elemen dalam list \"buah\"\n",
        "\n",
        "print()\n",
        "\n",
        "# 3. WHILE Loop\n",
        "print(\"3) WHILE loop sederhana\")\n",
        "count = 0\n",
        "while count < 5:\n",
        "  print(\"count =\", count)\n",
        "  count += 1 # increment\n",
        "# Perulangan while terus dijalankan selama kondisi (count < 5) bernilai True\n",
        "\n",
        "print()\n",
        "\n",
        "# 4. BREAK pada Loop\n",
        "print(\"4) BREAK di dalam loop\")\n",
        "for i in range(10):\n",
        "  if i == 3:\n",
        "    print(\"Loop dihentikan pada i =\", i)\n",
        "    break # mengakhiri loop saat i = 3\n",
        "  print(\"i =\", i)\n",
        "# Keyword break langsung menghentikan keseluruhan perulangan\n",
        "\n",
        "print()\n",
        "\n",
        "# 5. CONTINUE pada Loop\n",
        "print(\"5) CONTINUE di dalam loop\")\n",
        "for i in range(5):\n",
        "  if i == 2:\n",
        "    print(\"Lewati i =\", i, \"dengan continue\")\n",
        "    continue # melewati iterasi saat ini dan lanjut ke iterasi berikutnya\n",
        "  print(\"i =\", i)\n",
        "# Saat i = 2, baris print(\"i =\", i) tidak akan dieksekusi\n",
        "\n",
        "print()\n",
        "\n",
        "# 6. NESTED Loop (Loop Bersarang)\n",
        "print(\"6) NESTED loop\")\n",
        "for i in range(3): # Loop luar (outer loop)\n",
        "  for j in range(2): # Loop dalam (inner loop)\n",
        "    print(f\"i={i}, j={j}\")\n",
        "# Pada setiap iterasi i, loop j akan berjalan dari 0 sampai 1\n",
        "\n",
        "print()\n",
        "\n",
        "# 7. Memanfaatkan ELSE pada Loop\n",
        "print(\"7) ELSE pada loop for/while\")\n",
        "# Python memiliki fitur unik: blok else pada loop\n",
        "# Blok else akan dieksekusi jika loop selesai tanpa di-break.\n",
        "\n",
        "for x in range(3):\n",
        "  print(\"x =\", x)\n",
        "else:\n",
        "  print(\"Loop for telah selesai tanpa break.\\n\")\n",
        "\n",
        "y = 0\n",
        "while y < 3:\n",
        "  print(\"y =\", y)\n",
        "  y += 1\n",
        "else:\n",
        "  print(\"Loop while telah selesai tanpa break.\\n\")\n",
        "\n",
        "# 8. PASS sebagai placeholder\n",
        "print(\"8) PASS (placeholder)\")\n",
        "for i in range(3):\n",
        "  if i == 1:\n",
        "    pass # pass tidak melakukan apa-apa, digunakan sebagai placeholder\n",
        "  print(\"i =\", i)"
      ],
      "metadata": {
        "colab": {
          "base_uri": "https://localhost:8080/"
        },
        "id": "70OMradEFaf0",
        "outputId": "d8dcee0c-a537-4f78-bc5d-b91e0d424963"
      },
      "execution_count": null,
      "outputs": [
        {
          "output_type": "stream",
          "name": "stdout",
          "text": [
            "1) FOR loop dengan range()\n",
            "Perulangan ke- 0\n",
            "Perulangan ke- 1\n",
            "Perulangan ke- 2\n",
            "Perulangan ke- 3\n",
            "Perulangan ke- 4\n",
            "\n",
            "2) FOR loop mengiterasi list\n",
            "Buah: apel\n",
            "Buah: mangga\n",
            "Buah: jeruk\n",
            "Buah: pisang\n",
            "\n",
            "3) WHILE loop sederhana\n",
            "count = 0\n",
            "count = 1\n",
            "count = 2\n",
            "count = 3\n",
            "count = 4\n",
            "\n",
            "4) BREAK di dalam loop\n",
            "i = 0\n",
            "i = 1\n",
            "i = 2\n",
            "Loop dihentikan pada i = 3\n",
            "\n",
            "5) CONTINUE di dalam loop\n",
            "i = 0\n",
            "i = 1\n",
            "Lewati i = 2 dengan continue\n",
            "i = 3\n",
            "i = 4\n",
            "\n",
            "6) NESTED loop\n",
            "i=0, j=0\n",
            "i=0, j=1\n",
            "i=1, j=0\n",
            "i=1, j=1\n",
            "i=2, j=0\n",
            "i=2, j=1\n",
            "\n",
            "7) ELSE pada loop for/while\n",
            "x = 0\n",
            "x = 1\n",
            "x = 2\n",
            "Loop for telah selesai tanpa break.\n",
            "\n",
            "y = 0\n",
            "y = 1\n",
            "y = 2\n",
            "Loop while telah selesai tanpa break.\n",
            "\n",
            "8) PASS (placeholder)\n",
            "i = 0\n",
            "i = 1\n",
            "i = 2\n"
          ]
        }
      ]
    },
    {
      "cell_type": "markdown",
      "source": [
        "## Penugasan No. 04: Program 1"
      ],
      "metadata": {
        "id": "n_5u67kDI4Lv"
      }
    },
    {
      "cell_type": "code",
      "source": [
        "print(\"Program Menghitung BMI (Body Mass Index)\")\n",
        "print(\"=========================================\\n\")\n",
        "\n",
        "def kategori_BMI(BMI):\n",
        "    if BMI <= 18.5:\n",
        "        return \"Underweight\"\n",
        "    elif 18.5 <= BMI <= 24.9:\n",
        "        return \"Normal\"\n",
        "    elif 25 <= BMI <= 29.9:\n",
        "        return \"Overweight\"\n",
        "    else:\n",
        "        return \"Obese\"\n",
        "\n",
        "# Input: berat_badan (kg) dan tinggi_badan (cm)\n",
        "tinggi_badan = float(input(\"Masukkan tinggi badan (cm): \")) / 100  # Konversi cm ke meter\n",
        "berat_badan = float(input(\"Masukkan berat badan (kg): \"))\n",
        "\n",
        "# Rumus BMI\n",
        "BMI = berat_badan / (tinggi_badan ** 2)\n",
        "\n",
        "# Output hasil\n",
        "kategori = kategori_BMI(BMI)\n",
        "print(f\"\\nBMI Anda: {BMI:.2f}\")\n",
        "print(f\"Kategori: {kategori}\")\n",
        "\n"
      ],
      "metadata": {
        "colab": {
          "base_uri": "https://localhost:8080/"
        },
        "id": "g_L7T8BKJH0A",
        "outputId": "a5a9dd4d-07b9-4cd8-a8aa-3d6855f523d6"
      },
      "execution_count": 6,
      "outputs": [
        {
          "output_type": "stream",
          "name": "stdout",
          "text": [
            "Program Menghitung BMI (Body Mass Index)\n",
            "=========================================\n",
            "\n",
            "Masukkan tinggi badan (cm): 150\n",
            "Masukkan berat badan (kg): 80\n",
            "\n",
            "BMI Anda: 35.56\n",
            "Kategori: Obese\n"
          ]
        }
      ]
    },
    {
      "cell_type": "markdown",
      "source": [
        "## Penugasan No. 05: Program 2"
      ],
      "metadata": {
        "id": "3VjwDkZROQLF"
      }
    },
    {
      "cell_type": "code",
      "source": [
        "print(\"Program Check Angka Ganjil, Genap & Prima\")\n",
        "print(\"=========================================\\n\")\n",
        "\n",
        "angka = int(input(\"Masukkan angka: \"))\n",
        "\n",
        "if angka % 2 == 0:\n",
        "  print(f\"{angka} adalah angka genap.\")\n",
        "else:\n",
        "  print(f\"{angka} adalah angka ganjil\")\n",
        "\n",
        "if angka > 1:\n",
        "    for i in range(2, angka):\n",
        "        if (angka % i) == 0:\n",
        "            print(f\"{angka} bukan angka prima.\")\n",
        "            break\n",
        "    else:\n",
        "        print(f\"{angka} adalah angka prima.\")\n"
      ],
      "metadata": {
        "colab": {
          "base_uri": "https://localhost:8080/"
        },
        "id": "GadDeKxkOfqC",
        "outputId": "caeeec20-d08a-4638-c592-6c29dc4b2c57"
      },
      "execution_count": 22,
      "outputs": [
        {
          "output_type": "stream",
          "name": "stdout",
          "text": [
            "Program Check Angka Ganjil, Genap & Prima\n",
            "=========================================\n",
            "\n",
            "Masukkan angka: 9\n",
            "9 adalah angka ganjil\n",
            "9 bukan angka prima.\n"
          ]
        }
      ]
    }
  ]
}