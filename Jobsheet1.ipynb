{
  "nbformat": 4,
  "nbformat_minor": 0,
  "metadata": {
    "colab": {
      "provenance": [],
      "authorship_tag": "ABX9TyOCp5tKLFGsY86S+zcXCKdh",
      "include_colab_link": true
    },
    "kernelspec": {
      "name": "python3",
      "display_name": "Python 3"
    },
    "language_info": {
      "name": "python"
    }
  },
  "cells": [
    {
      "cell_type": "markdown",
      "metadata": {
        "id": "view-in-github",
        "colab_type": "text"
      },
      "source": [
        "<a href=\"https://colab.research.google.com/github/peeb111/2025_PBO_TI1A/blob/main/Jobsheet1.ipynb\" target=\"_parent\"><img src=\"https://colab.research.google.com/assets/colab-badge.svg\" alt=\"Open In Colab\"/></a>"
      ]
    },
    {
      "cell_type": "markdown",
      "source": [
        "JOBSHEET 01 -\n",
        "DASAR BAHASA PEMROGRAMAN PYTHON"
      ],
      "metadata": {
        "id": "ixbN14NbocET"
      }
    },
    {
      "cell_type": "code",
      "source": [],
      "metadata": {
        "id": "4HYd0zfXog1-"
      },
      "execution_count": null,
      "outputs": []
    }
  ]
}